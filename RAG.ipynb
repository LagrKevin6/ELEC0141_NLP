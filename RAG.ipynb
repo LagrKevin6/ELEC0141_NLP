{
 "cells": [
  {
   "cell_type": "code",
   "execution_count": 3,
   "metadata": {},
   "outputs": [
    {
     "name": "stdout",
     "output_type": "stream",
     "text": [
      "Defaulting to user installation because normal site-packages is not writeable\n",
      "Requirement already satisfied: pandas in /home/uceehuf/.local/lib/python3.9/site-packages (2.2.2)\n",
      "Requirement already satisfied: transformers in /home/uceehuf/.local/lib/python3.9/site-packages (4.40.1)\n",
      "Requirement already satisfied: faiss-gpu in /home/uceehuf/.local/lib/python3.9/site-packages (1.7.2)\n",
      "Requirement already satisfied: matplotlib in /home/uceehuf/.local/lib/python3.9/site-packages (3.8.4)\n",
      "Requirement already satisfied: openpyxl in /home/uceehuf/.local/lib/python3.9/site-packages (3.1.2)\n",
      "Collecting scikit-learn\n",
      "  Using cached scikit_learn-1.4.2-cp39-cp39-manylinux_2_17_x86_64.manylinux2014_x86_64.whl (12.2 MB)\n",
      "Requirement already satisfied: python-dateutil>=2.8.2 in /home/uceehuf/.local/lib/python3.9/site-packages (from pandas) (2.9.0.post0)\n",
      "Requirement already satisfied: pytz>=2020.1 in /usr/lib/python3.9/site-packages (from pandas) (2021.1)\n",
      "Requirement already satisfied: numpy>=1.22.4 in /home/uceehuf/.local/lib/python3.9/site-packages (from pandas) (1.22.4)\n",
      "Requirement already satisfied: tzdata>=2022.7 in /home/uceehuf/.local/lib/python3.9/site-packages (from pandas) (2024.1)\n",
      "Requirement already satisfied: regex!=2019.12.17 in /usr/local/lib64/python3.9/site-packages (from transformers) (2021.11.10)\n",
      "Requirement already satisfied: packaging>=20.0 in /usr/lib/python3.9/site-packages (from transformers) (20.9)\n",
      "Requirement already satisfied: requests in /usr/lib/python3.9/site-packages (from transformers) (2.25.1)\n",
      "Requirement already satisfied: tqdm>=4.27 in /home/uceehuf/.local/lib/python3.9/site-packages (from transformers) (4.66.4)\n",
      "Requirement already satisfied: huggingface-hub<1.0,>=0.19.3 in /home/uceehuf/.local/lib/python3.9/site-packages (from transformers) (0.23.0)\n",
      "Requirement already satisfied: filelock in /home/uceehuf/.local/lib/python3.9/site-packages (from transformers) (3.14.0)\n",
      "Requirement already satisfied: pyyaml>=5.1 in /usr/lib64/python3.9/site-packages (from transformers) (5.4.1)\n",
      "Requirement already satisfied: safetensors>=0.4.1 in /home/uceehuf/.local/lib/python3.9/site-packages (from transformers) (0.4.3)\n",
      "Requirement already satisfied: tokenizers<0.20,>=0.19 in /home/uceehuf/.local/lib/python3.9/site-packages (from transformers) (0.19.1)\n",
      "Requirement already satisfied: cycler>=0.10 in /home/uceehuf/.local/lib/python3.9/site-packages (from matplotlib) (0.12.1)\n",
      "Requirement already satisfied: contourpy>=1.0.1 in /home/uceehuf/.local/lib/python3.9/site-packages (from matplotlib) (1.2.1)\n",
      "Requirement already satisfied: pyparsing>=2.3.1 in /usr/lib/python3.9/site-packages (from matplotlib) (2.4.7)\n",
      "Requirement already satisfied: importlib-resources>=3.2.0 in /home/uceehuf/.local/lib/python3.9/site-packages (from matplotlib) (6.4.0)\n",
      "Requirement already satisfied: kiwisolver>=1.3.1 in /home/uceehuf/.local/lib/python3.9/site-packages (from matplotlib) (1.4.5)\n",
      "Requirement already satisfied: fonttools>=4.22.0 in /home/uceehuf/.local/lib/python3.9/site-packages (from matplotlib) (4.51.0)\n",
      "Requirement already satisfied: pillow>=8 in /home/uceehuf/.local/lib/python3.9/site-packages (from matplotlib) (10.3.0)\n",
      "Requirement already satisfied: et-xmlfile in /home/uceehuf/.local/lib/python3.9/site-packages (from openpyxl) (1.1.0)\n",
      "Collecting joblib>=1.2.0\n",
      "  Using cached joblib-1.4.2-py3-none-any.whl (301 kB)\n",
      "Requirement already satisfied: scipy>=1.6.0 in /usr/lib64/python3.9/site-packages (from scikit-learn) (1.6.2)\n",
      "Collecting threadpoolctl>=2.0.0\n",
      "  Using cached threadpoolctl-3.5.0-py3-none-any.whl (18 kB)\n",
      "Requirement already satisfied: fsspec>=2023.5.0 in /home/uceehuf/.local/lib/python3.9/site-packages (from huggingface-hub<1.0,>=0.19.3->transformers) (2024.3.1)\n",
      "Requirement already satisfied: typing-extensions>=3.7.4.3 in /home/uceehuf/.local/lib/python3.9/site-packages (from huggingface-hub<1.0,>=0.19.3->transformers) (4.11.0)\n",
      "Requirement already satisfied: zipp>=3.1.0 in /home/uceehuf/.local/lib/python3.9/site-packages (from importlib-resources>=3.2.0->matplotlib) (3.18.1)\n",
      "Requirement already satisfied: six>=1.5 in /usr/lib/python3.9/site-packages (from python-dateutil>=2.8.2->pandas) (1.15.0)\n",
      "Requirement already satisfied: idna<3,>=2.5 in /usr/lib/python3.9/site-packages (from requests->transformers) (2.10)\n",
      "Requirement already satisfied: urllib3<1.27,>=1.21.1 in /usr/lib/python3.9/site-packages (from requests->transformers) (1.26.5)\n",
      "Requirement already satisfied: chardet<5,>=3.0.2 in /usr/lib/python3.9/site-packages (from requests->transformers) (4.0.0)\n",
      "Installing collected packages: threadpoolctl, joblib, scikit-learn\n",
      "\u001b[33m  WARNING: Value for scheme.platlib does not match. Please report this to <https://github.com/pypa/pip/issues/10151>\n",
      "  distutils: /home/uceehuf/.local/lib/python3.9/site-packages\n",
      "  sysconfig: /home/uceehuf/.local/lib64/python3.9/site-packages\u001b[0m\n",
      "\u001b[33m  WARNING: Additional context:\n",
      "  user = True\n",
      "  home = None\n",
      "  root = None\n",
      "  prefix = None\u001b[0m\n",
      "Successfully installed joblib-1.4.2 scikit-learn-1.4.2 threadpoolctl-3.5.0\n"
     ]
    }
   ],
   "source": [
    "!pip install pandas transformers faiss-gpu matplotlib openpyxl scikit-learn\n",
    "\n"
   ]
  },
  {
   "cell_type": "code",
   "execution_count": 3,
   "metadata": {},
   "outputs": [
    {
     "name": "stdout",
     "output_type": "stream",
     "text": [
      "Defaulting to user installation because normal site-packages is not writeable\n",
      "Requirement already satisfied: faiss-gpu in /home/uceehuf/.local/lib/python3.9/site-packages (1.7.2)\n",
      "\u001b[33mWARNING: Value for scheme.platlib does not match. Please report this to <https://github.com/pypa/pip/issues/10151>\n",
      "distutils: /home/uceehuf/.local/lib/python3.9/site-packages\n",
      "sysconfig: /home/uceehuf/.local/lib64/python3.9/site-packages\u001b[0m\n",
      "\u001b[33mWARNING: Additional context:\n",
      "user = True\n",
      "home = None\n",
      "root = None\n",
      "prefix = None\u001b[0m\n",
      "Note: you may need to restart the kernel to use updated packages.\n"
     ]
    }
   ],
   "source": [
    "pip install faiss-gpu"
   ]
  },
  {
   "cell_type": "code",
   "execution_count": 1,
   "metadata": {},
   "outputs": [
    {
     "name": "stdout",
     "output_type": "stream",
     "text": [
      "Public Transport\n",
      "Journeys made on rail, bus, ferry, river boat, underground, metro or tram services – can be claimed.\n",
      "The most economical method of travel should be used. For example, if the claimant uses public transport in London regularly, they should use an Oyster card rather than paying for single journeys by cash.\n"
     ]
    }
   ],
   "source": [
    "import pandas as pd\n",
    "\n",
    "# Loading policy from Excel\n",
    "df = pd.read_excel('Policy.xlsx')\n",
    "policy_scripts = df['Policy Scripts'].tolist()\n",
    "\n",
    "print(policy_scripts[5])\n"
   ]
  },
  {
   "cell_type": "code",
   "execution_count": 4,
   "metadata": {},
   "outputs": [
    {
     "name": "stdout",
     "output_type": "stream",
     "text": [
      "[0. 0. 0. ... 0. 0. 0.]\n"
     ]
    }
   ],
   "source": [
    "\n",
    "import numpy as np\n",
    "from sklearn.feature_extraction.text import TfidfVectorizer\n",
    "\n",
    "# Embedding vectors\n",
    "vectorizer = TfidfVectorizer()\n",
    "X = vectorizer.fit_transform(policy_scripts).toarray()\n",
    "\n",
    "# Convert to float32 for FAISS compatibility\n",
    "X = np.array(X, dtype='float32')\n",
    "\n",
    "print(X[5])"
   ]
  },
  {
   "cell_type": "code",
   "execution_count": 5,
   "metadata": {},
   "outputs": [],
   "source": [
    "import faiss\n",
    "\n",
    "# initialise with the dimension of the vectors\n",
    "d = X.shape[1]\n",
    "\n",
    "# Add index\n",
    "index = faiss.IndexFlatL2(d)\n",
    "index.add(X)"
   ]
  },
  {
   "cell_type": "code",
   "execution_count": 6,
   "metadata": {},
   "outputs": [
    {
     "name": "stdout",
     "output_type": "stream",
     "text": [
      "Distances: [1.0714213 1.5596337 1.5722091 1.575973  1.6754932]\n",
      "Indices: [ 4 45 11 18  2]\n"
     ]
    }
   ],
   "source": [
    "# make a Query\n",
    "query_text = \"Does GNEI provide travel insurance?\"\n",
    "query_vector = vectorizer.transform([query_text]).toarray()\n",
    "query_vector = np.array(query_vector, dtype='float32')\n",
    "\n",
    "# Searching the index\n",
    "k = 5  # Number of nearest neighbors\n",
    "distances, indices = index.search(query_vector, k)\n",
    "\n",
    "print(\"Distances:\", distances.flatten())\n",
    "print(\"Indices:\", indices.flatten())\n"
   ]
  },
  {
   "cell_type": "code",
   "execution_count": 9,
   "metadata": {},
   "outputs": [
    {
     "data": {
      "image/png": "[encoded data removed]",
      "text/plain": [
       "<Figure size 1000x600 with 1 Axes>"
      ]
     },
     "metadata": {},
     "output_type": "display_data"
    },
    {
     "name": "stdout",
     "output_type": "stream",
     "text": [
      "### Retrieved Document:\n",
      " Travel Insurance\n",
      "Travel Insurance needs to be activated before traveling overseas, travelling in the UK for fieldtrips or travelling on a business trip where there is an overnight stay or air travel involved.\n",
      "Insurance can be activated by completing a travel insurance request form, which can be found in the Insurance Section on the Finance website.\n",
      "The Insurance team will issue a cover note and provide details of the policy. There is no cost to departments for travel insurance. For regular travellers the Insurance Section can issue annual cover notes on request.\n",
      "If a claimant has an existing medical condition and is not travelling against their doctors’ orders, this is covered by the GNEI Travel Insurance Policy at no extra cost.\n",
      "Personal travel insurance cannot be claimed as GNEI already provides cover for business travel, please refer to Annex 2 for further information on this exclusion.\n",
      "### Retrieved Document:\n",
      " Annex 2 – Exclusions\n",
      "In exceptional circumstances claims for some of these items may be allowed, prior approval should be obtained from the relevant PS Director, Faculty Director of Operations or School/PS Head of Finance. If prior approval is not obtained there is no guarantee that expenditure will be reimbursed.\n",
      "\n",
      "Broadband/Internet Provision\n",
      "Home internet connection cannot be claimed for in any circumstances.\n",
      "\n",
      "Entertainment and Hospitality\n",
      "GNEI will not pay for:\n",
      "Clothing for entertaining e.g. dress or suit hire\n",
      "Overnight accommodation\n",
      "\n",
      "Equipment\n",
      "All equipment should be purchased directly by GNEI via a Purchase Order (PO) and paid directly on invoice via Accounts Payable. Categories of equipment include, although not exclusively, IT hardware & software, laboratory equipment & consumables. GNEI have negotiated agreements with Contracted Suppliers for equipment.\n",
      "\n",
      "Fines\n",
      "GNEI does not pay:\n",
      "Fines or fixed penalties\n",
      "Administration fees charged by third parties for recovering fines\n",
      "Fines for motoring offences\n",
      "\n",
      "Gifts\n",
      "GNEI will not pay for gifts in any circumstances. Gifts for staff should be purchased using personal funds or via a staff collection. Gifts should not be claimed via expenses, nor purchased via iProcurement or a GNEI Purchasing Card.\n",
      "\n",
      "Insurance\n",
      "Travel insurance should be obtained from the Insurance section of the GNEI Finance website. Personal travel insurance policies will not cover claimants whilst abroad on GNEI’s behalf, and cannot be claimed as GNEI already provides cover for business travel. If a claim is received for travel insurance it will not be paid. Personal car/bicycle/motorcycle insurance cannot be claimed.\n",
      "\n",
      "Mobile Phone Contracts/Hardware\n",
      "Monthly contract charges and hardware cannot be claimed for. If a mobile phone is required for work purposes it should be obtained from ISD Telecoms. \n",
      "GNEI will pay for the cost of business calls made from a personal mobile phone, please see the ‘Telephone costs’ section of the GNEI Expenses Policy.\n",
      "\n",
      "Personal Expenditure\n",
      "Personal incidental costs while away on GNEI activity cannot be claimed. These include, although not exclusively, newspapers, bar drinks, mini bar, hotel video and health and fitness facilities.\n",
      "\n",
      "Stationery\n",
      "All stationery must be purchased via GNEI's approved supplier, via a PO and paid directly on invoice via Accounts Payable.\n",
      "### Retrieved Document:\n",
      " Car/bicycle/motorcycle insurance\n",
      "It is important that adequate personal insurance cover for business use is in place, as cars, bicycles or motorcycles belonging to claimants are not covered by GNEI’s insurance. Personal insurance cannot be claimed, see Annex 2 for further information.\n",
      "If a staff member uses or allows another member of staff to use a vehicle on GNEI’s business that is insured for third party risks only, GNEI will not be held liable for any of the following:\n",
      "damage or repairs to the vehicle\n",
      "property lost or damaged\n",
      "personal injuries sustained or caused during or as a result of such use.\n",
      "### Retrieved Document:\n",
      " Group Travel\n",
      "This is in relation to a staff conference or student field trip. Prior approval from the budget holder or departmental administrator/manager should be obtained before booking a group trip.\n",
      "The same rules apply for each category of travel and overnight costs as for travelling as an individual.\n",
      "All travel (including coach hire) and overnight costs should be booked in advance.\n",
      "GNEI's approved travel provider provides a group travel & conference booking facility, where all elements of the trip can be arranged. This can be used for arranging a business conference, as well as student field trips.\n",
      "Please ensure adequate insurance is in place for all staff and students on the trip. Travel insurance needs to be activated prior to the trip by using the Insurance section of the Finance website.\n",
      "### Retrieved Document:\n",
      " Private travel costs\n",
      "The following cannot be claimed:\n",
      "Travel between home and normal place of work.\n",
      "Business travel broadly similar to the claimant’s normal commute.\n",
      "Recreational travel and accommodation at or near the business travel destination.\n",
      "Travel or accommodation for family or friends accompanying the claimant on the business journey.\n"
     ]
    }
   ],
   "source": [
    "import matplotlib.pyplot as plt\n",
    "\n",
    "# Retrieve and plot the distances\n",
    "plt.figure(figsize=(10, 6))\n",
    "plt.bar(range(k), distances[0])\n",
    "plt.title('FAISS Retrieval Distances')\n",
    "plt.xlabel('Index of Retrieved Documents')\n",
    "plt.ylabel('Distance')\n",
    "plt.show()\n",
    "\n",
    "# Print the actual documents\n",
    "for idx in indices[0]:\n",
    "    print(\"### Retrieved Document:\\n\", policy_scripts[idx])\n"
   ]
  }
 ],
 "metadata": {
  "kernelspec": {
   "display_name": "Python 3",
   "language": "python",
   "name": "python3"
  },
  "language_info": {
   "codemirror_mode": {
    "name": "ipython",
    "version": 3
   },
   "file_extension": ".py",
   "mimetype": "text/x-python",
   "name": "python",
   "nbconvert_exporter": "python",
   "pygments_lexer": "ipython3",
   "version": "3.9.18"
  }
 },
 "nbformat": 4,
 "nbformat_minor": 2
}
